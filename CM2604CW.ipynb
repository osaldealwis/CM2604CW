{
  "nbformat": 4,
  "nbformat_minor": 0,
  "metadata": {
    "colab": {
      "provenance": [],
      "authorship_tag": "ABX9TyMawH6Ymf2eu1T4IEs7CJOQ",
      "include_colab_link": true
    },
    "kernelspec": {
      "name": "python3",
      "display_name": "Python 3"
    },
    "language_info": {
      "name": "python"
    }
  },
  "cells": [
    {
      "cell_type": "markdown",
      "metadata": {
        "id": "view-in-github",
        "colab_type": "text"
      },
      "source": [
        "<a href=\"https://colab.research.google.com/github/osaldealwis/CM2604CW/blob/main/CM2604CW.ipynb\" target=\"_parent\"><img src=\"https://colab.research.google.com/assets/colab-badge.svg\" alt=\"Open In Colab\"/></a>"
      ]
    },
    {
      "cell_type": "markdown",
      "source": [
        "#**CM2604 CW**\n",
        "#V.O.V De Alwis\n",
        "#RGU - 2330972\n",
        "#IIT - 20232312"
      ],
      "metadata": {
        "id": "7jmZKM0XfO1U"
      }
    },
    {
      "cell_type": "markdown",
      "source": [
        "#Dataset Preparation"
      ],
      "metadata": {
        "id": "vC47zfmdv9Ea"
      }
    },
    {
      "cell_type": "markdown",
      "source": [
        "Uploading the Dataset"
      ],
      "metadata": {
        "id": "95_lv8JHv40l"
      }
    },
    {
      "cell_type": "code",
      "execution_count": 2,
      "metadata": {
        "colab": {
          "base_uri": "https://localhost:8080/",
          "height": 73
        },
        "id": "T1EgXO-wfLP8",
        "outputId": "57019a82-fc62-4813-8961-c8cf21b05032"
      },
      "outputs": [
        {
          "output_type": "display_data",
          "data": {
            "text/plain": [
              "<IPython.core.display.HTML object>"
            ],
            "text/html": [
              "\n",
              "     <input type=\"file\" id=\"files-d7d0b796-46f8-4a0d-9834-dd590d57d8d9\" name=\"files[]\" multiple disabled\n",
              "        style=\"border:none\" />\n",
              "     <output id=\"result-d7d0b796-46f8-4a0d-9834-dd590d57d8d9\">\n",
              "      Upload widget is only available when the cell has been executed in the\n",
              "      current browser session. Please rerun this cell to enable.\n",
              "      </output>\n",
              "      <script>// Copyright 2017 Google LLC\n",
              "//\n",
              "// Licensed under the Apache License, Version 2.0 (the \"License\");\n",
              "// you may not use this file except in compliance with the License.\n",
              "// You may obtain a copy of the License at\n",
              "//\n",
              "//      http://www.apache.org/licenses/LICENSE-2.0\n",
              "//\n",
              "// Unless required by applicable law or agreed to in writing, software\n",
              "// distributed under the License is distributed on an \"AS IS\" BASIS,\n",
              "// WITHOUT WARRANTIES OR CONDITIONS OF ANY KIND, either express or implied.\n",
              "// See the License for the specific language governing permissions and\n",
              "// limitations under the License.\n",
              "\n",
              "/**\n",
              " * @fileoverview Helpers for google.colab Python module.\n",
              " */\n",
              "(function(scope) {\n",
              "function span(text, styleAttributes = {}) {\n",
              "  const element = document.createElement('span');\n",
              "  element.textContent = text;\n",
              "  for (const key of Object.keys(styleAttributes)) {\n",
              "    element.style[key] = styleAttributes[key];\n",
              "  }\n",
              "  return element;\n",
              "}\n",
              "\n",
              "// Max number of bytes which will be uploaded at a time.\n",
              "const MAX_PAYLOAD_SIZE = 100 * 1024;\n",
              "\n",
              "function _uploadFiles(inputId, outputId) {\n",
              "  const steps = uploadFilesStep(inputId, outputId);\n",
              "  const outputElement = document.getElementById(outputId);\n",
              "  // Cache steps on the outputElement to make it available for the next call\n",
              "  // to uploadFilesContinue from Python.\n",
              "  outputElement.steps = steps;\n",
              "\n",
              "  return _uploadFilesContinue(outputId);\n",
              "}\n",
              "\n",
              "// This is roughly an async generator (not supported in the browser yet),\n",
              "// where there are multiple asynchronous steps and the Python side is going\n",
              "// to poll for completion of each step.\n",
              "// This uses a Promise to block the python side on completion of each step,\n",
              "// then passes the result of the previous step as the input to the next step.\n",
              "function _uploadFilesContinue(outputId) {\n",
              "  const outputElement = document.getElementById(outputId);\n",
              "  const steps = outputElement.steps;\n",
              "\n",
              "  const next = steps.next(outputElement.lastPromiseValue);\n",
              "  return Promise.resolve(next.value.promise).then((value) => {\n",
              "    // Cache the last promise value to make it available to the next\n",
              "    // step of the generator.\n",
              "    outputElement.lastPromiseValue = value;\n",
              "    return next.value.response;\n",
              "  });\n",
              "}\n",
              "\n",
              "/**\n",
              " * Generator function which is called between each async step of the upload\n",
              " * process.\n",
              " * @param {string} inputId Element ID of the input file picker element.\n",
              " * @param {string} outputId Element ID of the output display.\n",
              " * @return {!Iterable<!Object>} Iterable of next steps.\n",
              " */\n",
              "function* uploadFilesStep(inputId, outputId) {\n",
              "  const inputElement = document.getElementById(inputId);\n",
              "  inputElement.disabled = false;\n",
              "\n",
              "  const outputElement = document.getElementById(outputId);\n",
              "  outputElement.innerHTML = '';\n",
              "\n",
              "  const pickedPromise = new Promise((resolve) => {\n",
              "    inputElement.addEventListener('change', (e) => {\n",
              "      resolve(e.target.files);\n",
              "    });\n",
              "  });\n",
              "\n",
              "  const cancel = document.createElement('button');\n",
              "  inputElement.parentElement.appendChild(cancel);\n",
              "  cancel.textContent = 'Cancel upload';\n",
              "  const cancelPromise = new Promise((resolve) => {\n",
              "    cancel.onclick = () => {\n",
              "      resolve(null);\n",
              "    };\n",
              "  });\n",
              "\n",
              "  // Wait for the user to pick the files.\n",
              "  const files = yield {\n",
              "    promise: Promise.race([pickedPromise, cancelPromise]),\n",
              "    response: {\n",
              "      action: 'starting',\n",
              "    }\n",
              "  };\n",
              "\n",
              "  cancel.remove();\n",
              "\n",
              "  // Disable the input element since further picks are not allowed.\n",
              "  inputElement.disabled = true;\n",
              "\n",
              "  if (!files) {\n",
              "    return {\n",
              "      response: {\n",
              "        action: 'complete',\n",
              "      }\n",
              "    };\n",
              "  }\n",
              "\n",
              "  for (const file of files) {\n",
              "    const li = document.createElement('li');\n",
              "    li.append(span(file.name, {fontWeight: 'bold'}));\n",
              "    li.append(span(\n",
              "        `(${file.type || 'n/a'}) - ${file.size} bytes, ` +\n",
              "        `last modified: ${\n",
              "            file.lastModifiedDate ? file.lastModifiedDate.toLocaleDateString() :\n",
              "                                    'n/a'} - `));\n",
              "    const percent = span('0% done');\n",
              "    li.appendChild(percent);\n",
              "\n",
              "    outputElement.appendChild(li);\n",
              "\n",
              "    const fileDataPromise = new Promise((resolve) => {\n",
              "      const reader = new FileReader();\n",
              "      reader.onload = (e) => {\n",
              "        resolve(e.target.result);\n",
              "      };\n",
              "      reader.readAsArrayBuffer(file);\n",
              "    });\n",
              "    // Wait for the data to be ready.\n",
              "    let fileData = yield {\n",
              "      promise: fileDataPromise,\n",
              "      response: {\n",
              "        action: 'continue',\n",
              "      }\n",
              "    };\n",
              "\n",
              "    // Use a chunked sending to avoid message size limits. See b/62115660.\n",
              "    let position = 0;\n",
              "    do {\n",
              "      const length = Math.min(fileData.byteLength - position, MAX_PAYLOAD_SIZE);\n",
              "      const chunk = new Uint8Array(fileData, position, length);\n",
              "      position += length;\n",
              "\n",
              "      const base64 = btoa(String.fromCharCode.apply(null, chunk));\n",
              "      yield {\n",
              "        response: {\n",
              "          action: 'append',\n",
              "          file: file.name,\n",
              "          data: base64,\n",
              "        },\n",
              "      };\n",
              "\n",
              "      let percentDone = fileData.byteLength === 0 ?\n",
              "          100 :\n",
              "          Math.round((position / fileData.byteLength) * 100);\n",
              "      percent.textContent = `${percentDone}% done`;\n",
              "\n",
              "    } while (position < fileData.byteLength);\n",
              "  }\n",
              "\n",
              "  // All done.\n",
              "  yield {\n",
              "    response: {\n",
              "      action: 'complete',\n",
              "    }\n",
              "  };\n",
              "}\n",
              "\n",
              "scope.google = scope.google || {};\n",
              "scope.google.colab = scope.google.colab || {};\n",
              "scope.google.colab._files = {\n",
              "  _uploadFiles,\n",
              "  _uploadFilesContinue,\n",
              "};\n",
              "})(self);\n",
              "</script> "
            ]
          },
          "metadata": {}
        },
        {
          "output_type": "stream",
          "name": "stdout",
          "text": [
            "Saving bank-full.csv to bank-full.csv\n"
          ]
        }
      ],
      "source": [
        "from google.colab import files\n",
        "uploaded = files.upload()\n"
      ]
    },
    {
      "cell_type": "markdown",
      "source": [
        "Loading and exploring the dataset"
      ],
      "metadata": {
        "id": "VIVsXi02wOhf"
      }
    },
    {
      "cell_type": "code",
      "source": [
        "#Importing the necessary libraries\n",
        "import pandas as pd\n",
        "import numpy as np\n",
        "import matplotlib.pyplot as plt\n",
        "import seaborn as sns\n",
        "from sklearn.model_selection import train_test_split\n",
        "from sklearn.preprocessing import StandardScaler"
      ],
      "metadata": {
        "id": "gmrmruRoltmM"
      },
      "execution_count": 3,
      "outputs": []
    },
    {
      "cell_type": "code",
      "source": [
        "# Loading the dataset\n",
        "data = pd.read_csv('bank-full.csv', sep=';')\n"
      ],
      "metadata": {
        "id": "AqGgFCiHlyAL"
      },
      "execution_count": 4,
      "outputs": []
    },
    {
      "cell_type": "code",
      "source": [
        "#Exploring the dataset\n",
        "\n",
        "# Display the first few rows\n",
        "print(data.head())\n",
        "\n",
        "# Checking dataset info\n",
        "print(data.info())\n",
        "\n",
        "# Checking for missing values\n",
        "print(data.isnull().sum())\n"
      ],
      "metadata": {
        "colab": {
          "base_uri": "https://localhost:8080/"
        },
        "id": "dGjK_yFvl1Av",
        "outputId": "b6976afc-7c28-498f-cc8b-f22f1fc68d6d"
      },
      "execution_count": 5,
      "outputs": [
        {
          "output_type": "stream",
          "name": "stdout",
          "text": [
            "   age           job  marital  education default  balance housing loan  \\\n",
            "0   58    management  married   tertiary      no     2143     yes   no   \n",
            "1   44    technician   single  secondary      no       29     yes   no   \n",
            "2   33  entrepreneur  married  secondary      no        2     yes  yes   \n",
            "3   47   blue-collar  married    unknown      no     1506     yes   no   \n",
            "4   33       unknown   single    unknown      no        1      no   no   \n",
            "\n",
            "   contact  day month  duration  campaign  pdays  previous poutcome   y  \n",
            "0  unknown    5   may       261         1     -1         0  unknown  no  \n",
            "1  unknown    5   may       151         1     -1         0  unknown  no  \n",
            "2  unknown    5   may        76         1     -1         0  unknown  no  \n",
            "3  unknown    5   may        92         1     -1         0  unknown  no  \n",
            "4  unknown    5   may       198         1     -1         0  unknown  no  \n",
            "<class 'pandas.core.frame.DataFrame'>\n",
            "RangeIndex: 45211 entries, 0 to 45210\n",
            "Data columns (total 17 columns):\n",
            " #   Column     Non-Null Count  Dtype \n",
            "---  ------     --------------  ----- \n",
            " 0   age        45211 non-null  int64 \n",
            " 1   job        45211 non-null  object\n",
            " 2   marital    45211 non-null  object\n",
            " 3   education  45211 non-null  object\n",
            " 4   default    45211 non-null  object\n",
            " 5   balance    45211 non-null  int64 \n",
            " 6   housing    45211 non-null  object\n",
            " 7   loan       45211 non-null  object\n",
            " 8   contact    45211 non-null  object\n",
            " 9   day        45211 non-null  int64 \n",
            " 10  month      45211 non-null  object\n",
            " 11  duration   45211 non-null  int64 \n",
            " 12  campaign   45211 non-null  int64 \n",
            " 13  pdays      45211 non-null  int64 \n",
            " 14  previous   45211 non-null  int64 \n",
            " 15  poutcome   45211 non-null  object\n",
            " 16  y          45211 non-null  object\n",
            "dtypes: int64(7), object(10)\n",
            "memory usage: 5.9+ MB\n",
            "None\n",
            "age          0\n",
            "job          0\n",
            "marital      0\n",
            "education    0\n",
            "default      0\n",
            "balance      0\n",
            "housing      0\n",
            "loan         0\n",
            "contact      0\n",
            "day          0\n",
            "month        0\n",
            "duration     0\n",
            "campaign     0\n",
            "pdays        0\n",
            "previous     0\n",
            "poutcome     0\n",
            "y            0\n",
            "dtype: int64\n"
          ]
        }
      ]
    },
    {
      "cell_type": "markdown",
      "source": [
        "Understanding the data"
      ],
      "metadata": {
        "id": "DfgjxkDewsvo"
      }
    },
    {
      "cell_type": "code",
      "source": [
        "#Inspecting the target variable (y)\n",
        "print(data['y'].value_counts())\n",
        "sns.countplot(data=data, x='y')\n",
        "plt.title('Distribution of Target Variable')\n",
        "plt.show()\n"
      ],
      "metadata": {
        "colab": {
          "base_uri": "https://localhost:8080/",
          "height": 541
        },
        "id": "2palFhK9msoM",
        "outputId": "5994a24c-ef46-40ee-9e52-e37278c38ddc"
      },
      "execution_count": 6,
      "outputs": [
        {
          "output_type": "stream",
          "name": "stdout",
          "text": [
            "y\n",
            "no     39922\n",
            "yes     5289\n",
            "Name: count, dtype: int64\n"
          ]
        },
        {
          "output_type": "display_data",
          "data": {
            "text/plain": [
              "<Figure size 640x480 with 1 Axes>"
            ],
            "image/png": "[encoded data removed]"
          },
          "metadata": {}
        }
      ]
    },
    {
      "cell_type": "markdown",
      "source": [
        "Data Preprocessing"
      ],
      "metadata": {
        "id": "ECyFlEYBxIJE"
      }
    },
    {
      "cell_type": "code",
      "source": [
        "# Encoding target: 'yes' to 1, 'no' to 0\n",
        "# Converting the target variable (y) into binary values\n",
        "data['y'] = data['y'].map({'yes': 1, 'no': 0})\n"
      ],
      "metadata": {
        "id": "-gu7otiXnCuy"
      },
      "execution_count": 7,
      "outputs": []
    },
    {
      "cell_type": "code",
      "source": [
        "# Checking categorical and numerical features\n",
        "categorical_columns = data.select_dtypes(include=['object']).columns\n",
        "numerical_columns = data.select_dtypes(include=['int64', 'float64']).columns\n",
        "print(\"Categorical Columns:\", categorical_columns)\n",
        "print(\"Numerical Columns:\", numerical_columns)"
      ],
      "metadata": {
        "colab": {
          "base_uri": "https://localhost:8080/"
        },
        "id": "4svJOn-RlWao",
        "outputId": "0cda6da9-6292-4651-c28b-4997d238a323"
      },
      "execution_count": 8,
      "outputs": [
        {
          "output_type": "stream",
          "name": "stdout",
          "text": [
            "Categorical Columns: Index(['job', 'marital', 'education', 'default', 'housing', 'loan', 'contact',\n",
            "       'month', 'poutcome'],\n",
            "      dtype='object')\n",
            "Numerical Columns: Index(['age', 'balance', 'day', 'duration', 'campaign', 'pdays', 'previous',\n",
            "       'y'],\n",
            "      dtype='object')\n"
          ]
        }
      ]
    },
    {
      "cell_type": "code",
      "source": [
        "# Encoding Categorical Features\n",
        "# One-hot encode categorical columns\n",
        "data = pd.get_dummies(data, columns=categorical_columns, drop_first=True)\n",
        "print(data.head())\n"
      ],
      "metadata": {
        "colab": {
          "base_uri": "https://localhost:8080/"
        },
        "id": "CETgynbWnGZY",
        "outputId": "c1104f28-3e94-4dde-a730-2f9c0ddf8c87"
      },
      "execution_count": 9,
      "outputs": [
        {
          "output_type": "stream",
          "name": "stdout",
          "text": [
            "   age  balance  day  duration  campaign  pdays  previous  y  job_blue-collar  \\\n",
            "0   58     2143    5       261         1     -1         0  0            False   \n",
            "1   44       29    5       151         1     -1         0  0            False   \n",
            "2   33        2    5        76         1     -1         0  0            False   \n",
            "3   47     1506    5        92         1     -1         0  0             True   \n",
            "4   33        1    5       198         1     -1         0  0            False   \n",
            "\n",
            "   job_entrepreneur  ...  month_jul  month_jun  month_mar  month_may  \\\n",
            "0             False  ...      False      False      False       True   \n",
            "1             False  ...      False      False      False       True   \n",
            "2              True  ...      False      False      False       True   \n",
            "3             False  ...      False      False      False       True   \n",
            "4             False  ...      False      False      False       True   \n",
            "\n",
            "   month_nov  month_oct  month_sep  poutcome_other  poutcome_success  \\\n",
            "0      False      False      False           False             False   \n",
            "1      False      False      False           False             False   \n",
            "2      False      False      False           False             False   \n",
            "3      False      False      False           False             False   \n",
            "4      False      False      False           False             False   \n",
            "\n",
            "   poutcome_unknown  \n",
            "0              True  \n",
            "1              True  \n",
            "2              True  \n",
            "3              True  \n",
            "4              True  \n",
            "\n",
            "[5 rows x 43 columns]\n"
          ]
        }
      ]
    },
    {
      "cell_type": "code",
      "source": [
        "# Splitting into features and target\n",
        "X = data.drop('y', axis=1)\n",
        "y = data['y']"
      ],
      "metadata": {
        "id": "jgrltXFimOhY"
      },
      "execution_count": 10,
      "outputs": []
    },
    {
      "cell_type": "code",
      "source": [
        "# Scaling numerical features for Neural Network\n",
        "scaler = StandardScaler()\n",
        "X_scaled = X.copy()\n",
        "numerical_cols = X.select_dtypes(include=['int64', 'float64']).columns\n",
        "X_scaled[numerical_cols] = scaler.fit_transform(X_scaled[numerical_cols])"
      ],
      "metadata": {
        "id": "TCVOkQjMnOLn"
      },
      "execution_count": 11,
      "outputs": []
    },
    {
      "cell_type": "markdown",
      "source": [
        "Data Splitting"
      ],
      "metadata": {
        "id": "uuo4HFxWkTVB"
      }
    },
    {
      "cell_type": "code",
      "source": [
        "# Splitting data into train-test sets for Random Forest\n",
        "X_train_rf, X_test_rf, y_train_rf, y_test_rf = train_test_split(X, y, test_size=0.2, random_state=42, stratify=y)\n"
      ],
      "metadata": {
        "id": "LTh-martnS6a"
      },
      "execution_count": 12,
      "outputs": []
    },
    {
      "cell_type": "code",
      "source": [
        "# Splitting data into train-test sets for Neural Network (scaled features)\n",
        "X_train_nn, X_test_nn, y_train_nn, y_test_nn = train_test_split(X_scaled, y, test_size=0.2, random_state=42, stratify=y)"
      ],
      "metadata": {
        "id": "EeCX_dapnaRV"
      },
      "execution_count": 13,
      "outputs": []
    },
    {
      "cell_type": "code",
      "source": [
        "# Verifying shapes\n",
        "print(\"Random Forest Dataset:\")\n",
        "print(\"Training set size (RF):\", X_train_rf.shape, \"Test set size (RF):\", X_test_rf.shape)\n",
        "print(\"Neural Network Dataset:\")\n",
        "print(\"Training set size (NN):\", X_train_nn.shape, \"Test set size (NN):\", X_test_nn.shape)"
      ],
      "metadata": {
        "colab": {
          "base_uri": "https://localhost:8080/"
        },
        "id": "rn-wL-oUnf3B",
        "outputId": "105ab355-7b82-4f43-fa96-bce191ec919e"
      },
      "execution_count": 14,
      "outputs": [
        {
          "output_type": "stream",
          "name": "stdout",
          "text": [
            "Random Forest Dataset:\n",
            "Training set size (RF): (36168, 42) Test set size (RF): (9043, 42)\n",
            "Neural Network Dataset:\n",
            "Training set size (NN): (36168, 42) Test set size (NN): (9043, 42)\n"
          ]
        }
      ]
    },
    {
      "cell_type": "code",
      "source": [
        "# Saving the processed datasets for Random Forest and Neural Network\n",
        "X_train_rf.to_csv('X_train_rf.csv', index=False)\n",
        "X_test_rf.to_csv('X_test_rf.csv', index=False)\n",
        "y_train_rf.to_csv('y_train_rf.csv', index=False)\n",
        "y_test_rf.to_csv('y_test_rf.csv', index=False)\n",
        "\n",
        "X_train_nn.to_csv('X_train_nn.csv', index=False)\n",
        "X_test_nn.to_csv('X_test_nn.csv', index=False)\n",
        "y_train_nn.to_csv('y_train_nn.csv', index=False)\n",
        "y_test_nn.to_csv('y_test_nn.csv', index=False)"
      ],
      "metadata": {
        "id": "mj5KkWj-nrEQ"
      },
      "execution_count": 15,
      "outputs": []
    },
    {
      "cell_type": "code",
      "source": [
        "# Downloading the datasets\n",
        "from google.colab import files\n",
        "files.download('X_train_rf.csv')\n",
        "files.download('X_test_rf.csv')\n",
        "files.download('y_train_rf.csv')\n",
        "files.download('y_test_rf.csv')\n",
        "\n",
        "files.download('X_train_nn.csv')\n",
        "files.download('X_test_nn.csv')\n",
        "files.download('y_train_nn.csv')\n",
        "files.download('y_test_nn.csv')"
      ],
      "metadata": {
        "colab": {
          "base_uri": "https://localhost:8080/",
          "height": 17
        },
        "id": "L2LXIxkLn2XQ",
        "outputId": "5b1355c5-abb4-4f7c-8010-c70aceba6a6c"
      },
      "execution_count": 16,
      "outputs": [
        {
          "output_type": "display_data",
          "data": {
            "text/plain": [
              "<IPython.core.display.Javascript object>"
            ],
            "application/javascript": [
              "\n",
              "    async function download(id, filename, size) {\n",
              "      if (!google.colab.kernel.accessAllowed) {\n",
              "        return;\n",
              "      }\n",
              "      const div = document.createElement('div');\n",
              "      const label = document.createElement('label');\n",
              "      label.textContent = `Downloading \"${filename}\": `;\n",
              "      div.appendChild(label);\n",
              "      const progress = document.createElement('progress');\n",
              "      progress.max = size;\n",
              "      div.appendChild(progress);\n",
              "      document.body.appendChild(div);\n",
              "\n",
              "      const buffers = [];\n",
              "      let downloaded = 0;\n",
              "\n",
              "      const channel = await google.colab.kernel.comms.open(id);\n",
              "      // Send a message to notify the kernel that we're ready.\n",
              "      channel.send({})\n",
              "\n",
              "      for await (const message of channel.messages) {\n",
              "        // Send a message to notify the kernel that we're ready.\n",
              "        channel.send({})\n",
              "        if (message.buffers) {\n",
              "          for (const buffer of message.buffers) {\n",
              "            buffers.push(buffer);\n",
              "            downloaded += buffer.byteLength;\n",
              "            progress.value = downloaded;\n",
              "          }\n",
              "        }\n",
              "      }\n",
              "      const blob = new Blob(buffers, {type: 'application/binary'});\n",
              "      const a = document.createElement('a');\n",
              "      a.href = window.URL.createObjectURL(blob);\n",
              "      a.download = filename;\n",
              "      div.appendChild(a);\n",
              "      a.click();\n",
              "      div.remove();\n",
              "    }\n",
              "  "
            ]
          },
          "metadata": {}
        },
        {
          "output_type": "display_data",
          "data": {
            "text/plain": [
              "<IPython.core.display.Javascript object>"
            ],
            "application/javascript": [
              "download(\"download_b5540991-6b19-49c0-890d-a4f63b1040e2\", \"X_train_rf.csv\", 8147563)"
            ]
          },
          "metadata": {}
        },
        {
          "output_type": "display_data",
          "data": {
            "text/plain": [
              "<IPython.core.display.Javascript object>"
            ],
            "application/javascript": [
              "\n",
              "    async function download(id, filename, size) {\n",
              "      if (!google.colab.kernel.accessAllowed) {\n",
              "        return;\n",
              "      }\n",
              "      const div = document.createElement('div');\n",
              "      const label = document.createElement('label');\n",
              "      label.textContent = `Downloading \"${filename}\": `;\n",
              "      div.appendChild(label);\n",
              "      const progress = document.createElement('progress');\n",
              "      progress.max = size;\n",
              "      div.appendChild(progress);\n",
              "      document.body.appendChild(div);\n",
              "\n",
              "      const buffers = [];\n",
              "      let downloaded = 0;\n",
              "\n",
              "      const channel = await google.colab.kernel.comms.open(id);\n",
              "      // Send a message to notify the kernel that we're ready.\n",
              "      channel.send({})\n",
              "\n",
              "      for await (const message of channel.messages) {\n",
              "        // Send a message to notify the kernel that we're ready.\n",
              "        channel.send({})\n",
              "        if (message.buffers) {\n",
              "          for (const buffer of message.buffers) {\n",
              "            buffers.push(buffer);\n",
              "            downloaded += buffer.byteLength;\n",
              "            progress.value = downloaded;\n",
              "          }\n",
              "        }\n",
              "      }\n",
              "      const blob = new Blob(buffers, {type: 'application/binary'});\n",
              "      const a = document.createElement('a');\n",
              "      a.href = window.URL.createObjectURL(blob);\n",
              "      a.download = filename;\n",
              "      div.appendChild(a);\n",
              "      a.click();\n",
              "      div.remove();\n",
              "    }\n",
              "  "
            ]
          },
          "metadata": {}
        },
        {
          "output_type": "display_data",
          "data": {
            "text/plain": [
              "<IPython.core.display.Javascript object>"
            ],
            "application/javascript": [
              "download(\"download_d1c78382-63e0-4325-847f-7fb770799501\", \"X_test_rf.csv\", 2037453)"
            ]
          },
          "metadata": {}
        },
        {
          "output_type": "display_data",
          "data": {
            "text/plain": [
              "<IPython.core.display.Javascript object>"
            ],
            "application/javascript": [
              "\n",
              "    async function download(id, filename, size) {\n",
              "      if (!google.colab.kernel.accessAllowed) {\n",
              "        return;\n",
              "      }\n",
              "      const div = document.createElement('div');\n",
              "      const label = document.createElement('label');\n",
              "      label.textContent = `Downloading \"${filename}\": `;\n",
              "      div.appendChild(label);\n",
              "      const progress = document.createElement('progress');\n",
              "      progress.max = size;\n",
              "      div.appendChild(progress);\n",
              "      document.body.appendChild(div);\n",
              "\n",
              "      const buffers = [];\n",
              "      let downloaded = 0;\n",
              "\n",
              "      const channel = await google.colab.kernel.comms.open(id);\n",
              "      // Send a message to notify the kernel that we're ready.\n",
              "      channel.send({})\n",
              "\n",
              "      for await (const message of channel.messages) {\n",
              "        // Send a message to notify the kernel that we're ready.\n",
              "        channel.send({})\n",
              "        if (message.buffers) {\n",
              "          for (const buffer of message.buffers) {\n",
              "            buffers.push(buffer);\n",
              "            downloaded += buffer.byteLength;\n",
              "            progress.value = downloaded;\n",
              "          }\n",
              "        }\n",
              "      }\n",
              "      const blob = new Blob(buffers, {type: 'application/binary'});\n",
              "      const a = document.createElement('a');\n",
              "      a.href = window.URL.createObjectURL(blob);\n",
              "      a.download = filename;\n",
              "      div.appendChild(a);\n",
              "      a.click();\n",
              "      div.remove();\n",
              "    }\n",
              "  "
            ]
          },
          "metadata": {}
        },
        {
          "output_type": "display_data",
          "data": {
            "text/plain": [
              "<IPython.core.display.Javascript object>"
            ],
            "application/javascript": [
              "download(\"download_5e58db18-3601-4c6f-a46b-afdd840315c3\", \"y_train_rf.csv\", 72338)"
            ]
          },
          "metadata": {}
        },
        {
          "output_type": "display_data",
          "data": {
            "text/plain": [
              "<IPython.core.display.Javascript object>"
            ],
            "application/javascript": [
              "\n",
              "    async function download(id, filename, size) {\n",
              "      if (!google.colab.kernel.accessAllowed) {\n",
              "        return;\n",
              "      }\n",
              "      const div = document.createElement('div');\n",
              "      const label = document.createElement('label');\n",
              "      label.textContent = `Downloading \"${filename}\": `;\n",
              "      div.appendChild(label);\n",
              "      const progress = document.createElement('progress');\n",
              "      progress.max = size;\n",
              "      div.appendChild(progress);\n",
              "      document.body.appendChild(div);\n",
              "\n",
              "      const buffers = [];\n",
              "      let downloaded = 0;\n",
              "\n",
              "      const channel = await google.colab.kernel.comms.open(id);\n",
              "      // Send a message to notify the kernel that we're ready.\n",
              "      channel.send({})\n",
              "\n",
              "      for await (const message of channel.messages) {\n",
              "        // Send a message to notify the kernel that we're ready.\n",
              "        channel.send({})\n",
              "        if (message.buffers) {\n",
              "          for (const buffer of message.buffers) {\n",
              "            buffers.push(buffer);\n",
              "            downloaded += buffer.byteLength;\n",
              "            progress.value = downloaded;\n",
              "          }\n",
              "        }\n",
              "      }\n",
              "      const blob = new Blob(buffers, {type: 'application/binary'});\n",
              "      const a = document.createElement('a');\n",
              "      a.href = window.URL.createObjectURL(blob);\n",
              "      a.download = filename;\n",
              "      div.appendChild(a);\n",
              "      a.click();\n",
              "      div.remove();\n",
              "    }\n",
              "  "
            ]
          },
          "metadata": {}
        },
        {
          "output_type": "display_data",
          "data": {
            "text/plain": [
              "<IPython.core.display.Javascript object>"
            ],
            "application/javascript": [
              "download(\"download_e1f10778-cb48-4e23-a75d-238806398d41\", \"y_test_rf.csv\", 18088)"
            ]
          },
          "metadata": {}
        },
        {
          "output_type": "display_data",
          "data": {
            "text/plain": [
              "<IPython.core.display.Javascript object>"
            ],
            "application/javascript": [
              "\n",
              "    async function download(id, filename, size) {\n",
              "      if (!google.colab.kernel.accessAllowed) {\n",
              "        return;\n",
              "      }\n",
              "      const div = document.createElement('div');\n",
              "      const label = document.createElement('label');\n",
              "      label.textContent = `Downloading \"${filename}\": `;\n",
              "      div.appendChild(label);\n",
              "      const progress = document.createElement('progress');\n",
              "      progress.max = size;\n",
              "      div.appendChild(progress);\n",
              "      document.body.appendChild(div);\n",
              "\n",
              "      const buffers = [];\n",
              "      let downloaded = 0;\n",
              "\n",
              "      const channel = await google.colab.kernel.comms.open(id);\n",
              "      // Send a message to notify the kernel that we're ready.\n",
              "      channel.send({})\n",
              "\n",
              "      for await (const message of channel.messages) {\n",
              "        // Send a message to notify the kernel that we're ready.\n",
              "        channel.send({})\n",
              "        if (message.buffers) {\n",
              "          for (const buffer of message.buffers) {\n",
              "            buffers.push(buffer);\n",
              "            downloaded += buffer.byteLength;\n",
              "            progress.value = downloaded;\n",
              "          }\n",
              "        }\n",
              "      }\n",
              "      const blob = new Blob(buffers, {type: 'application/binary'});\n",
              "      const a = document.createElement('a');\n",
              "      a.href = window.URL.createObjectURL(blob);\n",
              "      a.download = filename;\n",
              "      div.appendChild(a);\n",
              "      a.click();\n",
              "      div.remove();\n",
              "    }\n",
              "  "
            ]
          },
          "metadata": {}
        },
        {
          "output_type": "display_data",
          "data": {
            "text/plain": [
              "<IPython.core.display.Javascript object>"
            ],
            "application/javascript": [
              "download(\"download_f4a08bac-a77f-4d47-b844-209fc157b6a3\", \"X_train_nn.csv\", 12434621)"
            ]
          },
          "metadata": {}
        },
        {
          "output_type": "display_data",
          "data": {
            "text/plain": [
              "<IPython.core.display.Javascript object>"
            ],
            "application/javascript": [
              "\n",
              "    async function download(id, filename, size) {\n",
              "      if (!google.colab.kernel.accessAllowed) {\n",
              "        return;\n",
              "      }\n",
              "      const div = document.createElement('div');\n",
              "      const label = document.createElement('label');\n",
              "      label.textContent = `Downloading \"${filename}\": `;\n",
              "      div.appendChild(label);\n",
              "      const progress = document.createElement('progress');\n",
              "      progress.max = size;\n",
              "      div.appendChild(progress);\n",
              "      document.body.appendChild(div);\n",
              "\n",
              "      const buffers = [];\n",
              "      let downloaded = 0;\n",
              "\n",
              "      const channel = await google.colab.kernel.comms.open(id);\n",
              "      // Send a message to notify the kernel that we're ready.\n",
              "      channel.send({})\n",
              "\n",
              "      for await (const message of channel.messages) {\n",
              "        // Send a message to notify the kernel that we're ready.\n",
              "        channel.send({})\n",
              "        if (message.buffers) {\n",
              "          for (const buffer of message.buffers) {\n",
              "            buffers.push(buffer);\n",
              "            downloaded += buffer.byteLength;\n",
              "            progress.value = downloaded;\n",
              "          }\n",
              "        }\n",
              "      }\n",
              "      const blob = new Blob(buffers, {type: 'application/binary'});\n",
              "      const a = document.createElement('a');\n",
              "      a.href = window.URL.createObjectURL(blob);\n",
              "      a.download = filename;\n",
              "      div.appendChild(a);\n",
              "      a.click();\n",
              "      div.remove();\n",
              "    }\n",
              "  "
            ]
          },
          "metadata": {}
        },
        {
          "output_type": "display_data",
          "data": {
            "text/plain": [
              "<IPython.core.display.Javascript object>"
            ],
            "application/javascript": [
              "download(\"download_97c8dc62-25a1-4336-9808-e85024cc8c2a\", \"X_test_nn.csv\", 3109165)"
            ]
          },
          "metadata": {}
        },
        {
          "output_type": "display_data",
          "data": {
            "text/plain": [
              "<IPython.core.display.Javascript object>"
            ],
            "application/javascript": [
              "\n",
              "    async function download(id, filename, size) {\n",
              "      if (!google.colab.kernel.accessAllowed) {\n",
              "        return;\n",
              "      }\n",
              "      const div = document.createElement('div');\n",
              "      const label = document.createElement('label');\n",
              "      label.textContent = `Downloading \"${filename}\": `;\n",
              "      div.appendChild(label);\n",
              "      const progress = document.createElement('progress');\n",
              "      progress.max = size;\n",
              "      div.appendChild(progress);\n",
              "      document.body.appendChild(div);\n",
              "\n",
              "      const buffers = [];\n",
              "      let downloaded = 0;\n",
              "\n",
              "      const channel = await google.colab.kernel.comms.open(id);\n",
              "      // Send a message to notify the kernel that we're ready.\n",
              "      channel.send({})\n",
              "\n",
              "      for await (const message of channel.messages) {\n",
              "        // Send a message to notify the kernel that we're ready.\n",
              "        channel.send({})\n",
              "        if (message.buffers) {\n",
              "          for (const buffer of message.buffers) {\n",
              "            buffers.push(buffer);\n",
              "            downloaded += buffer.byteLength;\n",
              "            progress.value = downloaded;\n",
              "          }\n",
              "        }\n",
              "      }\n",
              "      const blob = new Blob(buffers, {type: 'application/binary'});\n",
              "      const a = document.createElement('a');\n",
              "      a.href = window.URL.createObjectURL(blob);\n",
              "      a.download = filename;\n",
              "      div.appendChild(a);\n",
              "      a.click();\n",
              "      div.remove();\n",
              "    }\n",
              "  "
            ]
          },
          "metadata": {}
        },
        {
          "output_type": "display_data",
          "data": {
            "text/plain": [
              "<IPython.core.display.Javascript object>"
            ],
            "application/javascript": [
              "download(\"download_e2d32e56-fe01-4cbe-b798-ea5c9bd2c121\", \"y_train_nn.csv\", 72338)"
            ]
          },
          "metadata": {}
        },
        {
          "output_type": "display_data",
          "data": {
            "text/plain": [
              "<IPython.core.display.Javascript object>"
            ],
            "application/javascript": [
              "\n",
              "    async function download(id, filename, size) {\n",
              "      if (!google.colab.kernel.accessAllowed) {\n",
              "        return;\n",
              "      }\n",
              "      const div = document.createElement('div');\n",
              "      const label = document.createElement('label');\n",
              "      label.textContent = `Downloading \"${filename}\": `;\n",
              "      div.appendChild(label);\n",
              "      const progress = document.createElement('progress');\n",
              "      progress.max = size;\n",
              "      div.appendChild(progress);\n",
              "      document.body.appendChild(div);\n",
              "\n",
              "      const buffers = [];\n",
              "      let downloaded = 0;\n",
              "\n",
              "      const channel = await google.colab.kernel.comms.open(id);\n",
              "      // Send a message to notify the kernel that we're ready.\n",
              "      channel.send({})\n",
              "\n",
              "      for await (const message of channel.messages) {\n",
              "        // Send a message to notify the kernel that we're ready.\n",
              "        channel.send({})\n",
              "        if (message.buffers) {\n",
              "          for (const buffer of message.buffers) {\n",
              "            buffers.push(buffer);\n",
              "            downloaded += buffer.byteLength;\n",
              "            progress.value = downloaded;\n",
              "          }\n",
              "        }\n",
              "      }\n",
              "      const blob = new Blob(buffers, {type: 'application/binary'});\n",
              "      const a = document.createElement('a');\n",
              "      a.href = window.URL.createObjectURL(blob);\n",
              "      a.download = filename;\n",
              "      div.appendChild(a);\n",
              "      a.click();\n",
              "      div.remove();\n",
              "    }\n",
              "  "
            ]
          },
          "metadata": {}
        },
        {
          "output_type": "display_data",
          "data": {
            "text/plain": [
              "<IPython.core.display.Javascript object>"
            ],
            "application/javascript": [
              "download(\"download_cf0f356c-b07a-40c3-aa7c-6792f06626f0\", \"y_test_nn.csv\", 18088)"
            ]
          },
          "metadata": {}
        }
      ]
    },
    {
      "cell_type": "markdown",
      "source": [
        "#Model Implementation"
      ],
      "metadata": {
        "id": "to9lYDsyjjQV"
      }
    },
    {
      "cell_type": "markdown",
      "source": [
        "**Random Forest Classification**"
      ],
      "metadata": {
        "id": "6nOCmkISN-Qk"
      }
    },
    {
      "cell_type": "code",
      "source": [
        "\n",
        "# Importing necessary libraries\n",
        "from sklearn.ensemble import RandomForestClassifier\n",
        "from sklearn.metrics import classification_report, accuracy_score, roc_auc_score\n",
        "from imblearn.over_sampling import SMOTE\n",
        "from sklearn.model_selection import GridSearchCV\n",
        "\n",
        "# Reloading the preprocessed dataset\n",
        "import pandas as pd\n",
        "X_train_rf = pd.read_csv('X_train_rf.csv')\n",
        "X_test_rf = pd.read_csv('X_test_rf.csv')\n",
        "y_train_rf = pd.read_csv('y_train_rf.csv').squeeze()  # Converting to Series\n",
        "y_test_rf = pd.read_csv('y_test_rf.csv').squeeze()    # Converting to Series\n",
        "\n",
        "# Handling class imbalance using SMOTE\n",
        "smote = SMOTE(random_state=42)\n",
        "X_train_rf, y_train_rf = smote.fit_resample(X_train_rf, y_train_rf)\n",
        "\n",
        "# Initializing the Random Forest Classifier\n",
        "rf_model = RandomForestClassifier(random_state=42)\n",
        "\n",
        "# Hyperparameter tuning using GridSearchCV\n",
        "param_grid = {\n",
        "    'n_estimators': [100, 200, 300],\n",
        "    'max_depth': [10, 15, 20],\n",
        "    'min_samples_split': [2, 5, 10],\n",
        "    'min_samples_leaf': [1, 2, 4],\n",
        "    'class_weight': ['balanced', None]\n",
        "}\n",
        "\n",
        "grid_search = GridSearchCV(estimator=rf_model, param_grid=param_grid, cv=3, n_jobs=-1, verbose=2)\n",
        "grid_search.fit(X_train_rf, y_train_rf)\n",
        "\n",
        "# Choosing the Best hyperparameters\n",
        "print(f\"Best hyperparameters: {grid_search.best_params_}\")\n",
        "rf_model = grid_search.best_estimator_\n",
        "\n",
        "# Training the Random Forest model with best parameters\n",
        "rf_model.fit(X_train_rf, y_train_rf)\n",
        "print(\"Random Forest model training complete.\")\n",
        "\n",
        "# Testing and evaluation\n",
        "y_pred_rf = rf_model.predict(X_test_rf)\n",
        "y_prob_rf = rf_model.predict_proba(X_test_rf)[:, 1]  # For ROC-AUC\n",
        "\n",
        "# Evaluation metrics\n",
        "print(\"\\nRandom Forest Classification Report:\")\n",
        "print(classification_report(y_test_rf, y_pred_rf))\n",
        "print(\"Accuracy:\", accuracy_score(y_test_rf, y_pred_rf))\n",
        "print(\"ROC-AUC:\", roc_auc_score(y_test_rf, y_prob_rf))\n",
        "\n"
      ],
      "metadata": {
        "colab": {
          "base_uri": "https://localhost:8080/"
        },
        "id": "zLCW31DzpsJz",
        "outputId": "ffd42fa3-b46c-4ace-83e1-0845f0b8e85c"
      },
      "execution_count": 17,
      "outputs": [
        {
          "output_type": "stream",
          "name": "stderr",
          "text": [
            "/usr/local/lib/python3.10/dist-packages/sklearn/base.py:474: FutureWarning: `BaseEstimator._validate_data` is deprecated in 1.6 and will be removed in 1.7. Use `sklearn.utils.validation.validate_data` instead. This function becomes public and is part of the scikit-learn developer API.\n",
            "  warnings.warn(\n",
            "/usr/local/lib/python3.10/dist-packages/sklearn/utils/_tags.py:354: FutureWarning: The SMOTE or classes from which it inherits use `_get_tags` and `_more_tags`. Please define the `__sklearn_tags__` method, or inherit from `sklearn.base.BaseEstimator` and/or other appropriate mixins such as `sklearn.base.TransformerMixin`, `sklearn.base.ClassifierMixin`, `sklearn.base.RegressorMixin`, and `sklearn.base.OutlierMixin`. From scikit-learn 1.7, not defining `__sklearn_tags__` will raise an error.\n",
            "  warnings.warn(\n"
          ]
        },
        {
          "output_type": "stream",
          "name": "stdout",
          "text": [
            "Fitting 3 folds for each of 162 candidates, totalling 486 fits\n",
            "Best hyperparameters: {'class_weight': None, 'max_depth': 20, 'min_samples_leaf': 1, 'min_samples_split': 2, 'n_estimators': 300}\n",
            "Random Forest model training complete.\n",
            "\n",
            "Random Forest Classification Report:\n",
            "              precision    recall  f1-score   support\n",
            "\n",
            "           0       0.94      0.95      0.94      7985\n",
            "           1       0.58      0.56      0.57      1058\n",
            "\n",
            "    accuracy                           0.90      9043\n",
            "   macro avg       0.76      0.75      0.76      9043\n",
            "weighted avg       0.90      0.90      0.90      9043\n",
            "\n",
            "Accuracy: 0.9009178370009953\n",
            "ROC-AUC: 0.9235823785855567\n"
          ]
        }
      ]
    },
    {
      "cell_type": "markdown",
      "source": [
        "**Neaural** **Network**"
      ],
      "metadata": {
        "id": "KRAvmQwVOK88"
      }
    },
    {
      "cell_type": "code",
      "source": [
        "# Importong necessary libraries\n",
        "from sklearn.utils.class_weight import compute_class_weight\n",
        "from imblearn.over_sampling import SMOTE\n",
        "from sklearn.model_selection import train_test_split\n",
        "import tensorflow as tf\n",
        "from tensorflow.keras.models import Sequential\n",
        "from tensorflow.keras.layers import Dense, Dropout, BatchNormalization\n",
        "from tensorflow.keras.optimizers import Adam\n",
        "from tensorflow.keras.regularizers import l2\n",
        "from sklearn.metrics import classification_report, accuracy_score, roc_auc_score\n",
        "\n",
        "# Reloading the preprocessed dataset\n",
        "X_train_nn = pd.read_csv('X_train_nn.csv')\n",
        "X_test_nn = pd.read_csv('X_test_nn.csv')\n",
        "y_train_nn = pd.read_csv('y_train_nn.csv').squeeze()  # Target labels for training\n",
        "y_test_nn = pd.read_csv('y_test_nn.csv').squeeze()    # Target labels for testing\n",
        "\n",
        "# Handling class imbalance using SMOTE\n",
        "smote = SMOTE(random_state=42)\n",
        "X_train_nn, y_train_nn = smote.fit_resample(X_train_nn, y_train_nn)\n",
        "\n",
        "# Calculating class weights\n",
        "import numpy as np\n",
        "class_weights = compute_class_weight('balanced', classes=np.array([0, 1]), y=y_train_nn)\n",
        "class_weights = {0: class_weights[0], 1: class_weights[1]}\n",
        "\n",
        "# Building the Neural Network\n",
        "model = Sequential([\n",
        "    Dense(128, activation='relu', input_dim=X_train_nn.shape[1], kernel_regularizer=l2(0.001)),\n",
        "    BatchNormalization(),\n",
        "    Dropout(0.3),\n",
        "    Dense(64, activation='relu', kernel_regularizer=l2(0.001)),\n",
        "    BatchNormalization(),\n",
        "    Dropout(0.3),\n",
        "    Dense(1, activation='sigmoid')\n",
        "])\n",
        "\n",
        "# Compiling the model\n",
        "model.compile(optimizer=Adam(learning_rate=0.001),\n",
        "              loss='binary_crossentropy',\n",
        "              metrics=['accuracy'])\n",
        "\n",
        "# Training the model with validation\n",
        "history = model.fit(X_train_nn, y_train_nn,\n",
        "                    epochs=50,\n",
        "                    batch_size=32,\n",
        "                    validation_split=0.2,\n",
        "                    class_weight=class_weights,\n",
        "                    verbose=1)\n",
        "\n",
        "# Evaluating the model on test data\n",
        "y_pred_nn = model.predict(X_test_nn).flatten()\n",
        "y_pred_labels_nn = (y_pred_nn > 0.5).astype(int)\n",
        "\n",
        "print(\"Classification Report (Neural Network):\")\n",
        "print(classification_report(y_test_nn, y_pred_labels_nn))\n",
        "print(\"Accuracy (Neural Network):\", accuracy_score(y_test_nn, y_pred_labels_nn))\n",
        "\n",
        "roc_auc = roc_auc_score(y_test_nn, y_pred_nn)     # ROC-AUC score\n",
        "print(f\"ROC-AUC: {roc_auc}\")\n"
      ],
      "metadata": {
        "colab": {
          "base_uri": "https://localhost:8080/"
        },
        "id": "0EyipOQDp8eH",
        "outputId": "58a4bbd0-fe4a-4ba5-9320-28ab0f8a69c4"
      },
      "execution_count": 18,
      "outputs": [
        {
          "output_type": "stream",
          "name": "stderr",
          "text": [
            "/usr/local/lib/python3.10/dist-packages/sklearn/base.py:474: FutureWarning: `BaseEstimator._validate_data` is deprecated in 1.6 and will be removed in 1.7. Use `sklearn.utils.validation.validate_data` instead. This function becomes public and is part of the scikit-learn developer API.\n",
            "  warnings.warn(\n",
            "/usr/local/lib/python3.10/dist-packages/sklearn/utils/_tags.py:354: FutureWarning: The SMOTE or classes from which it inherits use `_get_tags` and `_more_tags`. Please define the `__sklearn_tags__` method, or inherit from `sklearn.base.BaseEstimator` and/or other appropriate mixins such as `sklearn.base.TransformerMixin`, `sklearn.base.ClassifierMixin`, `sklearn.base.RegressorMixin`, and `sklearn.base.OutlierMixin`. From scikit-learn 1.7, not defining `__sklearn_tags__` will raise an error.\n",
            "  warnings.warn(\n",
            "/usr/local/lib/python3.10/dist-packages/keras/src/layers/core/dense.py:87: UserWarning: Do not pass an `input_shape`/`input_dim` argument to a layer. When using Sequential models, prefer using an `Input(shape)` object as the first layer in the model instead.\n",
            "  super().__init__(activity_regularizer=activity_regularizer, **kwargs)\n"
          ]
        },
        {
          "output_type": "stream",
          "name": "stdout",
          "text": [
            "Epoch 1/50\n",
            "\u001b[1m1597/1597\u001b[0m \u001b[32m━━━━━━━━━━━━━━━━━━━━\u001b[0m\u001b[37m\u001b[0m \u001b[1m8s\u001b[0m 3ms/step - accuracy: 0.7945 - loss: 0.5873 - val_accuracy: 0.8671 - val_loss: 0.4377\n",
            "Epoch 2/50\n",
            "\u001b[1m1597/1597\u001b[0m \u001b[32m━━━━━━━━━━━━━━━━━━━━\u001b[0m\u001b[37m\u001b[0m \u001b[1m4s\u001b[0m 3ms/step - accuracy: 0.8554 - loss: 0.4015 - val_accuracy: 0.8743 - val_loss: 0.3915\n",
            "Epoch 3/50\n",
            "\u001b[1m1597/1597\u001b[0m \u001b[32m━━━━━━━━━━━━━━━━━━━━\u001b[0m\u001b[37m\u001b[0m \u001b[1m6s\u001b[0m 3ms/step - accuracy: 0.8640 - loss: 0.3547 - val_accuracy: 0.8991 - val_loss: 0.3249\n",
            "Epoch 4/50\n",
            "\u001b[1m1597/1597\u001b[0m \u001b[32m━━━━━━━━━━━━━━━━━━━━\u001b[0m\u001b[37m\u001b[0m \u001b[1m9s\u001b[0m 3ms/step - accuracy: 0.8725 - loss: 0.3262 - val_accuracy: 0.8991 - val_loss: 0.3129\n",
            "Epoch 5/50\n",
            "\u001b[1m1597/1597\u001b[0m \u001b[32m━━━━━━━━━━━━━━━━━━━━\u001b[0m\u001b[37m\u001b[0m \u001b[1m6s\u001b[0m 4ms/step - accuracy: 0.8741 - loss: 0.3189 - val_accuracy: 0.9203 - val_loss: 0.2981\n",
            "Epoch 6/50\n",
            "\u001b[1m1597/1597\u001b[0m \u001b[32m━━━━━━━━━━━━━━━━━━━━\u001b[0m\u001b[37m\u001b[0m \u001b[1m9s\u001b[0m 3ms/step - accuracy: 0.8762 - loss: 0.3141 - val_accuracy: 0.9179 - val_loss: 0.2906\n",
            "Epoch 7/50\n",
            "\u001b[1m1597/1597\u001b[0m \u001b[32m━━━━━━━━━━━━━━━━━━━━\u001b[0m\u001b[37m\u001b[0m \u001b[1m6s\u001b[0m 4ms/step - accuracy: 0.8779 - loss: 0.3099 - val_accuracy: 0.9126 - val_loss: 0.2942\n",
            "Epoch 8/50\n",
            "\u001b[1m1597/1597\u001b[0m \u001b[32m━━━━━━━━━━━━━━━━━━━━\u001b[0m\u001b[37m\u001b[0m \u001b[1m9s\u001b[0m 3ms/step - accuracy: 0.8772 - loss: 0.3158 - val_accuracy: 0.9250 - val_loss: 0.2635\n",
            "Epoch 9/50\n",
            "\u001b[1m1597/1597\u001b[0m \u001b[32m━━━━━━━━━━━━━━━━━━━━\u001b[0m\u001b[37m\u001b[0m \u001b[1m6s\u001b[0m 3ms/step - accuracy: 0.8826 - loss: 0.3051 - val_accuracy: 0.9200 - val_loss: 0.2988\n",
            "Epoch 10/50\n",
            "\u001b[1m1597/1597\u001b[0m \u001b[32m━━━━━━━━━━━━━━━━━━━━\u001b[0m\u001b[37m\u001b[0m \u001b[1m9s\u001b[0m 3ms/step - accuracy: 0.8813 - loss: 0.3068 - val_accuracy: 0.9199 - val_loss: 0.2763\n",
            "Epoch 11/50\n",
            "\u001b[1m1597/1597\u001b[0m \u001b[32m━━━━━━━━━━━━━━━━━━━━\u001b[0m\u001b[37m\u001b[0m \u001b[1m6s\u001b[0m 4ms/step - accuracy: 0.8810 - loss: 0.3072 - val_accuracy: 0.9229 - val_loss: 0.2828\n",
            "Epoch 12/50\n",
            "\u001b[1m1597/1597\u001b[0m \u001b[32m━━━━━━━━━━━━━━━━━━━━\u001b[0m\u001b[37m\u001b[0m \u001b[1m4s\u001b[0m 3ms/step - accuracy: 0.8807 - loss: 0.3075 - val_accuracy: 0.9177 - val_loss: 0.2857\n",
            "Epoch 13/50\n",
            "\u001b[1m1597/1597\u001b[0m \u001b[32m━━━━━━━━━━━━━━━━━━━━\u001b[0m\u001b[37m\u001b[0m \u001b[1m4s\u001b[0m 3ms/step - accuracy: 0.8838 - loss: 0.3049 - val_accuracy: 0.9110 - val_loss: 0.3053\n",
            "Epoch 14/50\n",
            "\u001b[1m1597/1597\u001b[0m \u001b[32m━━━━━━━━━━━━━━━━━━━━\u001b[0m\u001b[37m\u001b[0m \u001b[1m6s\u001b[0m 3ms/step - accuracy: 0.8868 - loss: 0.2974 - val_accuracy: 0.9117 - val_loss: 0.2971\n",
            "Epoch 15/50\n",
            "\u001b[1m1597/1597\u001b[0m \u001b[32m━━━━━━━━━━━━━━━━━━━━\u001b[0m\u001b[37m\u001b[0m \u001b[1m4s\u001b[0m 3ms/step - accuracy: 0.8842 - loss: 0.3017 - val_accuracy: 0.9139 - val_loss: 0.2861\n",
            "Epoch 16/50\n",
            "\u001b[1m1597/1597\u001b[0m \u001b[32m━━━━━━━━━━━━━━━━━━━━\u001b[0m\u001b[37m\u001b[0m \u001b[1m4s\u001b[0m 3ms/step - accuracy: 0.8854 - loss: 0.2990 - val_accuracy: 0.9434 - val_loss: 0.2366\n",
            "Epoch 17/50\n",
            "\u001b[1m1597/1597\u001b[0m \u001b[32m━━━━━━━━━━━━━━━━━━━━\u001b[0m\u001b[37m\u001b[0m \u001b[1m6s\u001b[0m 3ms/step - accuracy: 0.8851 - loss: 0.2990 - val_accuracy: 0.9032 - val_loss: 0.3006\n",
            "Epoch 18/50\n",
            "\u001b[1m1597/1597\u001b[0m \u001b[32m━━━━━━━━━━━━━━━━━━━━\u001b[0m\u001b[37m\u001b[0m \u001b[1m4s\u001b[0m 3ms/step - accuracy: 0.8866 - loss: 0.2986 - val_accuracy: 0.9095 - val_loss: 0.2845\n",
            "Epoch 19/50\n",
            "\u001b[1m1597/1597\u001b[0m \u001b[32m━━━━━━━━━━━━━━━━━━━━\u001b[0m\u001b[37m\u001b[0m \u001b[1m5s\u001b[0m 3ms/step - accuracy: 0.8856 - loss: 0.2973 - val_accuracy: 0.8879 - val_loss: 0.3178\n",
            "Epoch 20/50\n",
            "\u001b[1m1597/1597\u001b[0m \u001b[32m━━━━━━━━━━━━━━━━━━━━\u001b[0m\u001b[37m\u001b[0m \u001b[1m5s\u001b[0m 3ms/step - accuracy: 0.8820 - loss: 0.3031 - val_accuracy: 0.9354 - val_loss: 0.2343\n",
            "Epoch 21/50\n",
            "\u001b[1m1597/1597\u001b[0m \u001b[32m━━━━━━━━━━━━━━━━━━━━\u001b[0m\u001b[37m\u001b[0m \u001b[1m4s\u001b[0m 3ms/step - accuracy: 0.8859 - loss: 0.2951 - val_accuracy: 0.9134 - val_loss: 0.2709\n",
            "Epoch 22/50\n",
            "\u001b[1m1597/1597\u001b[0m \u001b[32m━━━━━━━━━━━━━━━━━━━━\u001b[0m\u001b[37m\u001b[0m \u001b[1m5s\u001b[0m 3ms/step - accuracy: 0.8842 - loss: 0.2961 - val_accuracy: 0.9336 - val_loss: 0.2498\n",
            "Epoch 23/50\n",
            "\u001b[1m1597/1597\u001b[0m \u001b[32m━━━━━━━━━━━━━━━━━━━━\u001b[0m\u001b[37m\u001b[0m \u001b[1m5s\u001b[0m 3ms/step - accuracy: 0.8841 - loss: 0.2976 - val_accuracy: 0.9252 - val_loss: 0.2607\n",
            "Epoch 24/50\n",
            "\u001b[1m1597/1597\u001b[0m \u001b[32m━━━━━━━━━━━━━━━━━━━━\u001b[0m\u001b[37m\u001b[0m \u001b[1m4s\u001b[0m 3ms/step - accuracy: 0.8837 - loss: 0.2975 - val_accuracy: 0.9047 - val_loss: 0.3031\n",
            "Epoch 25/50\n",
            "\u001b[1m1597/1597\u001b[0m \u001b[32m━━━━━━━━━━━━━━━━━━━━\u001b[0m\u001b[37m\u001b[0m \u001b[1m7s\u001b[0m 4ms/step - accuracy: 0.8869 - loss: 0.2927 - val_accuracy: 0.9406 - val_loss: 0.2482\n",
            "Epoch 26/50\n",
            "\u001b[1m1597/1597\u001b[0m \u001b[32m━━━━━━━━━━━━━━━━━━━━\u001b[0m\u001b[37m\u001b[0m \u001b[1m9s\u001b[0m 3ms/step - accuracy: 0.8857 - loss: 0.2951 - val_accuracy: 0.9333 - val_loss: 0.2486\n",
            "Epoch 27/50\n",
            "\u001b[1m1597/1597\u001b[0m \u001b[32m━━━━━━━━━━━━━━━━━━━━\u001b[0m\u001b[37m\u001b[0m \u001b[1m6s\u001b[0m 4ms/step - accuracy: 0.8895 - loss: 0.2913 - val_accuracy: 0.9199 - val_loss: 0.2644\n",
            "Epoch 28/50\n",
            "\u001b[1m1597/1597\u001b[0m \u001b[32m━━━━━━━━━━━━━━━━━━━━\u001b[0m\u001b[37m\u001b[0m \u001b[1m4s\u001b[0m 3ms/step - accuracy: 0.8836 - loss: 0.2956 - val_accuracy: 0.9131 - val_loss: 0.2792\n",
            "Epoch 29/50\n",
            "\u001b[1m1597/1597\u001b[0m \u001b[32m━━━━━━━━━━━━━━━━━━━━\u001b[0m\u001b[37m\u001b[0m \u001b[1m4s\u001b[0m 3ms/step - accuracy: 0.8885 - loss: 0.2904 - val_accuracy: 0.9226 - val_loss: 0.2624\n",
            "Epoch 30/50\n",
            "\u001b[1m1597/1597\u001b[0m \u001b[32m━━━━━━━━━━━━━━━━━━━━\u001b[0m\u001b[37m\u001b[0m \u001b[1m6s\u001b[0m 4ms/step - accuracy: 0.8868 - loss: 0.2988 - val_accuracy: 0.9290 - val_loss: 0.2819\n",
            "Epoch 31/50\n",
            "\u001b[1m1597/1597\u001b[0m \u001b[32m━━━━━━━━━━━━━━━━━━━━\u001b[0m\u001b[37m\u001b[0m \u001b[1m4s\u001b[0m 3ms/step - accuracy: 0.8873 - loss: 0.2947 - val_accuracy: 0.8834 - val_loss: 0.3359\n",
            "Epoch 32/50\n",
            "\u001b[1m1597/1597\u001b[0m \u001b[32m━━━━━━━━━━━━━━━━━━━━\u001b[0m\u001b[37m\u001b[0m \u001b[1m4s\u001b[0m 3ms/step - accuracy: 0.8876 - loss: 0.2935 - val_accuracy: 0.9291 - val_loss: 0.2564\n",
            "Epoch 33/50\n",
            "\u001b[1m1597/1597\u001b[0m \u001b[32m━━━━━━━━━━━━━━━━━━━━\u001b[0m\u001b[37m\u001b[0m \u001b[1m6s\u001b[0m 3ms/step - accuracy: 0.8873 - loss: 0.2938 - val_accuracy: 0.9231 - val_loss: 0.2516\n",
            "Epoch 34/50\n",
            "\u001b[1m1597/1597\u001b[0m \u001b[32m━━━━━━━━━━━━━━━━━━━━\u001b[0m\u001b[37m\u001b[0m \u001b[1m4s\u001b[0m 3ms/step - accuracy: 0.8876 - loss: 0.2927 - val_accuracy: 0.9348 - val_loss: 0.2300\n",
            "Epoch 35/50\n",
            "\u001b[1m1597/1597\u001b[0m \u001b[32m━━━━━━━━━━━━━━━━━━━━\u001b[0m\u001b[37m\u001b[0m \u001b[1m5s\u001b[0m 3ms/step - accuracy: 0.8854 - loss: 0.2924 - val_accuracy: 0.9323 - val_loss: 0.2537\n",
            "Epoch 36/50\n",
            "\u001b[1m1597/1597\u001b[0m \u001b[32m━━━━━━━━━━━━━━━━━━━━\u001b[0m\u001b[37m\u001b[0m \u001b[1m5s\u001b[0m 3ms/step - accuracy: 0.8869 - loss: 0.2937 - val_accuracy: 0.9302 - val_loss: 0.2391\n",
            "Epoch 37/50\n",
            "\u001b[1m1597/1597\u001b[0m \u001b[32m━━━━━━━━━━━━━━━━━━━━\u001b[0m\u001b[37m\u001b[0m \u001b[1m4s\u001b[0m 3ms/step - accuracy: 0.8852 - loss: 0.2979 - val_accuracy: 0.9205 - val_loss: 0.2820\n",
            "Epoch 38/50\n",
            "\u001b[1m1597/1597\u001b[0m \u001b[32m━━━━━━━━━━━━━━━━━━━━\u001b[0m\u001b[37m\u001b[0m \u001b[1m7s\u001b[0m 4ms/step - accuracy: 0.8849 - loss: 0.2956 - val_accuracy: 0.9299 - val_loss: 0.2638\n",
            "Epoch 39/50\n",
            "\u001b[1m1597/1597\u001b[0m \u001b[32m━━━━━━━━━━━━━━━━━━━━\u001b[0m\u001b[37m\u001b[0m \u001b[1m9s\u001b[0m 3ms/step - accuracy: 0.8851 - loss: 0.2961 - val_accuracy: 0.9140 - val_loss: 0.2633\n",
            "Epoch 40/50\n",
            "\u001b[1m1597/1597\u001b[0m \u001b[32m━━━━━━━━━━━━━━━━━━━━\u001b[0m\u001b[37m\u001b[0m \u001b[1m6s\u001b[0m 4ms/step - accuracy: 0.8832 - loss: 0.2938 - val_accuracy: 0.9231 - val_loss: 0.2757\n",
            "Epoch 41/50\n",
            "\u001b[1m1597/1597\u001b[0m \u001b[32m━━━━━━━━━━━━━━━━━━━━\u001b[0m\u001b[37m\u001b[0m \u001b[1m9s\u001b[0m 3ms/step - accuracy: 0.8846 - loss: 0.2926 - val_accuracy: 0.9013 - val_loss: 0.2882\n",
            "Epoch 42/50\n",
            "\u001b[1m1597/1597\u001b[0m \u001b[32m━━━━━━━━━━━━━━━━━━━━\u001b[0m\u001b[37m\u001b[0m \u001b[1m7s\u001b[0m 4ms/step - accuracy: 0.8873 - loss: 0.2913 - val_accuracy: 0.9281 - val_loss: 0.2576\n",
            "Epoch 43/50\n",
            "\u001b[1m1597/1597\u001b[0m \u001b[32m━━━━━━━━━━━━━━━━━━━━\u001b[0m\u001b[37m\u001b[0m \u001b[1m9s\u001b[0m 3ms/step - accuracy: 0.8863 - loss: 0.2912 - val_accuracy: 0.9181 - val_loss: 0.2992\n",
            "Epoch 44/50\n",
            "\u001b[1m1597/1597\u001b[0m \u001b[32m━━━━━━━━━━━━━━━━━━━━\u001b[0m\u001b[37m\u001b[0m \u001b[1m6s\u001b[0m 4ms/step - accuracy: 0.8865 - loss: 0.2908 - val_accuracy: 0.9194 - val_loss: 0.2858\n",
            "Epoch 45/50\n",
            "\u001b[1m1597/1597\u001b[0m \u001b[32m━━━━━━━━━━━━━━━━━━━━\u001b[0m\u001b[37m\u001b[0m \u001b[1m9s\u001b[0m 3ms/step - accuracy: 0.8892 - loss: 0.2868 - val_accuracy: 0.9261 - val_loss: 0.2464\n",
            "Epoch 46/50\n",
            "\u001b[1m1597/1597\u001b[0m \u001b[32m━━━━━━━━━━━━━━━━━━━━\u001b[0m\u001b[37m\u001b[0m \u001b[1m6s\u001b[0m 3ms/step - accuracy: 0.8840 - loss: 0.2938 - val_accuracy: 0.9351 - val_loss: 0.2487\n",
            "Epoch 47/50\n",
            "\u001b[1m1597/1597\u001b[0m \u001b[32m━━━━━━━━━━━━━━━━━━━━\u001b[0m\u001b[37m\u001b[0m \u001b[1m4s\u001b[0m 3ms/step - accuracy: 0.8827 - loss: 0.2946 - val_accuracy: 0.9162 - val_loss: 0.2813\n",
            "Epoch 48/50\n",
            "\u001b[1m1597/1597\u001b[0m \u001b[32m━━━━━━━━━━━━━━━━━━━━\u001b[0m\u001b[37m\u001b[0m \u001b[1m7s\u001b[0m 4ms/step - accuracy: 0.8878 - loss: 0.2898 - val_accuracy: 0.9183 - val_loss: 0.2789\n",
            "Epoch 49/50\n",
            "\u001b[1m1597/1597\u001b[0m \u001b[32m━━━━━━━━━━━━━━━━━━━━\u001b[0m\u001b[37m\u001b[0m \u001b[1m5s\u001b[0m 3ms/step - accuracy: 0.8851 - loss: 0.2905 - val_accuracy: 0.9202 - val_loss: 0.2489\n",
            "Epoch 50/50\n",
            "\u001b[1m1597/1597\u001b[0m \u001b[32m━━━━━━━━━━━━━━━━━━━━\u001b[0m\u001b[37m\u001b[0m \u001b[1m5s\u001b[0m 3ms/step - accuracy: 0.8869 - loss: 0.2906 - val_accuracy: 0.9192 - val_loss: 0.2595\n",
            "\u001b[1m283/283\u001b[0m \u001b[32m━━━━━━━━━━━━━━━━━━━━\u001b[0m\u001b[37m\u001b[0m \u001b[1m1s\u001b[0m 2ms/step\n",
            "Classification Report (Neural Network):\n",
            "              precision    recall  f1-score   support\n",
            "\n",
            "           0       0.97      0.90      0.93      7985\n",
            "           1       0.51      0.75      0.61      1058\n",
            "\n",
            "    accuracy                           0.89      9043\n",
            "   macro avg       0.74      0.83      0.77      9043\n",
            "weighted avg       0.91      0.89      0.89      9043\n",
            "\n",
            "Accuracy (Neural Network): 0.8854362490324007\n",
            "ROC-AUC: 0.9196304981102325\n"
          ]
        }
      ]
    },
    {
      "cell_type": "markdown",
      "source": [
        "#Model Evaluation"
      ],
      "metadata": {
        "id": "Cjkk-m-Wj3dK"
      }
    },
    {
      "cell_type": "markdown",
      "source": [
        "Checking for Overfitting"
      ],
      "metadata": {
        "id": "WX_WgkBcluft"
      }
    },
    {
      "cell_type": "code",
      "source": [
        "from sklearn.metrics import accuracy_score\n",
        "\n",
        "# For Random Forest\n",
        "# Calculating training accuracy\n",
        "y_train_pred_rf = rf_model.predict(X_train_rf)\n",
        "train_accuracy_rf = accuracy_score(y_train_rf, y_train_pred_rf)\n",
        "\n",
        "# Calculating testing accuracy\n",
        "y_test_pred_rf = rf_model.predict(X_test_rf)\n",
        "test_accuracy_rf = accuracy_score(y_test_rf, y_test_pred_rf)\n",
        "\n",
        "# Plotting training vs testing accuracy\n",
        "plt.figure(figsize=(6, 4))\n",
        "plt.bar(['Training Accuracy', 'Testing Accuracy'], [train_accuracy_rf, test_accuracy_rf], color=['blue', 'orange'])\n",
        "plt.title(\"Random Forest: Training vs Testing Accuracy\")\n",
        "plt.ylabel(\"Accuracy\")\n",
        "plt.ylim(0, 1)  # Accuracy ranges from 0 to 1\n",
        "plt.show()\n",
        "\n",
        "# For Neural Network\n",
        "# Calculating training accuracy (last epoch from history)\n",
        "training_accuracy_nn = history.history['accuracy'][-1]\n",
        "\n",
        "# Calculating testing accuracy\n",
        "y_pred_labels_nn = (model.predict(X_test_nn) > 0.5).astype(int).flatten()\n",
        "testing_accuracy_nn = accuracy_score(y_test_nn, y_pred_labels_nn)\n",
        "\n",
        "# Plotting training vs testing accuracy\n",
        "plt.figure(figsize=(6, 4))\n",
        "plt.bar(['Training Accuracy', 'Testing Accuracy'], [training_accuracy_nn, testing_accuracy_nn], color=['blue', 'orange'])\n",
        "plt.title(\"Neural Network: Training vs Testing Accuracy\")\n",
        "plt.ylabel(\"Accuracy\")\n",
        "plt.ylim(0, 1)  # Accuracy ranges from 0 to 1\n",
        "plt.show()\n"
      ],
      "metadata": {
        "colab": {
          "base_uri": "https://localhost:8080/",
          "height": 782
        },
        "id": "qAeodvmYlxAL",
        "outputId": "466fc1ee-6ba0-4e30-8f6f-764d8d22ec5a"
      },
      "execution_count": 19,
      "outputs": [
        {
          "output_type": "display_data",
          "data": {
            "text/plain": [
              "<Figure size 600x400 with 1 Axes>"
            ],
            "image/png": "[encoded data removed]"
          },
          "metadata": {}
        },
        {
          "output_type": "stream",
          "name": "stdout",
          "text": [
            "\u001b[1m283/283\u001b[0m \u001b[32m━━━━━━━━━━━━━━━━━━━━\u001b[0m\u001b[37m\u001b[0m \u001b[1m0s\u001b[0m 1ms/step\n"
          ]
        },
        {
          "output_type": "display_data",
          "data": {
            "text/plain": [
              "<Figure size 600x400 with 1 Axes>"
            ],
            "image/png": "[encoded data removed]"
          },
          "metadata": {}
        }
      ]
    },
    {
      "cell_type": "markdown",
      "source": [
        "Comparing Model performance"
      ],
      "metadata": {
        "id": "LZ_-VfqfPKq4"
      }
    },
    {
      "cell_type": "code",
      "source": [
        "import matplotlib.pyplot as plt\n",
        "from sklearn.metrics import classification_report, accuracy_score, roc_auc_score, roc_curve\n",
        "import pandas as pd\n",
        "\n",
        "# Random Forest predictions\n",
        "y_pred_rf = rf_model.predict(X_test_rf)\n",
        "y_prob_rf = rf_model.predict_proba(X_test_rf)[:, 1]  # For ROC-AUC\n",
        "\n",
        "# Neural Network predictions\n",
        "y_pred_nn = model.predict(X_test_nn).flatten()  # Probabilities\n",
        "y_pred_labels_nn = (y_pred_nn > 0.5).astype(int)  # Converting to binary labels (0 or 1)\n",
        "\n",
        "# Collecting evaluation metrics for Random Forest\n",
        "rf_report = classification_report(y_test_rf, y_pred_rf, output_dict=True)\n",
        "rf_accuracy = accuracy_score(y_test_rf, y_pred_rf)\n",
        "rf_roc_auc = roc_auc_score(y_test_rf, y_prob_rf)\n",
        "\n",
        "# Collecting evaluation metrics for Neural Network\n",
        "nn_report = classification_report(y_test_nn, y_pred_labels_nn, output_dict=True)\n",
        "nn_accuracy = accuracy_score(y_test_nn, y_pred_labels_nn)\n",
        "nn_roc_auc = roc_auc_score(y_test_nn, y_pred_nn)\n",
        "\n",
        "# Creating a DataFrame for comparison\n",
        "metrics = {\n",
        "    'Metric': ['Accuracy', 'Precision', 'Recall', 'F1-Score', 'ROC-AUC'],\n",
        "    'Random Forest': [\n",
        "        rf_accuracy,\n",
        "        rf_report['1']['precision'],\n",
        "        rf_report['1']['recall'],\n",
        "        rf_report['1']['f1-score'],\n",
        "        rf_roc_auc\n",
        "    ],\n",
        "    'Neural Network': [\n",
        "        nn_accuracy,\n",
        "        nn_report['1']['precision'],\n",
        "        nn_report['1']['recall'],\n",
        "        nn_report['1']['f1-score'],\n",
        "        nn_roc_auc\n",
        "    ]\n",
        "}\n",
        "\n",
        "comparison_df = pd.DataFrame(metrics)\n",
        "\n",
        "# Printing the table for model comparison\n",
        "print(comparison_df)\n",
        "\n",
        "# Bar Plot for Metrics Comparison\n",
        "plt.figure(figsize=(10, 6))\n",
        "x = range(len(metrics['Metric']))\n",
        "plt.bar(x, comparison_df['Random Forest'], width=0.4, label='Random Forest', align='center')\n",
        "plt.bar([p + 0.4 for p in x], comparison_df['Neural Network'], width=0.4, label='Neural Network', align='center')\n",
        "plt.xticks([p + 0.2 for p in x], metrics['Metric'])\n",
        "plt.xlabel('Metrics')\n",
        "plt.ylabel('Values')\n",
        "plt.title('Model Performance Comparison: Random Forest vs Neural Network')\n",
        "plt.legend()\n",
        "plt.show()\n",
        "\n",
        "# ROC Curve for Both Models\n",
        "rf_fpr, rf_tpr, _ = roc_curve(y_test_rf, y_prob_rf)\n",
        "nn_fpr, nn_tpr, _ = roc_curve(y_test_nn, y_pred_nn)\n",
        "\n",
        "plt.figure(figsize=(10, 6))\n",
        "plt.plot(rf_fpr, rf_tpr, label='Random Forest (AUC = {:.2f})'.format(rf_roc_auc))\n",
        "plt.plot(nn_fpr, nn_tpr, label='Neural Network (AUC = {:.2f})'.format(nn_roc_auc))\n",
        "plt.plot([0, 1], [0, 1], 'k--', label='Random Chance')\n",
        "plt.xlabel('False Positive Rate')\n",
        "plt.ylabel('True Positive Rate')\n",
        "plt.title('ROC Curve Comparison: Random Forest vs Neural Network')\n",
        "plt.legend()\n",
        "plt.grid()\n",
        "plt.show()\n",
        "\n"
      ],
      "metadata": {
        "colab": {
          "base_uri": "https://localhost:8080/",
          "height": 1000
        },
        "id": "fW4E8ufTsLrf",
        "outputId": "3231579e-996e-4040-82e6-1abc8438e95e"
      },
      "execution_count": 20,
      "outputs": [
        {
          "output_type": "stream",
          "name": "stdout",
          "text": [
            "\u001b[1m283/283\u001b[0m \u001b[32m━━━━━━━━━━━━━━━━━━━━\u001b[0m\u001b[37m\u001b[0m \u001b[1m0s\u001b[0m 1ms/step\n",
            "      Metric  Random Forest  Neural Network\n",
            "0   Accuracy       0.900918        0.885436\n",
            "1  Precision       0.579102        0.506989\n",
            "2     Recall       0.560491        0.754253\n",
            "3   F1-Score       0.569645        0.606383\n",
            "4    ROC-AUC       0.923582        0.919630\n"
          ]
        },
        {
          "output_type": "display_data",
          "data": {
            "text/plain": [
              "<Figure size 1000x600 with 1 Axes>"
            ],
            "image/png": "[encoded data removed]"
          },
          "metadata": {}
        },
        {
          "output_type": "display_data",
          "data": {
            "text/plain": [
              "<Figure size 1000x600 with 1 Axes>"
            ],
            "image/png": "[encoded data removed]"
          },
          "metadata": {}
        }
      ]
    }
  ]
}